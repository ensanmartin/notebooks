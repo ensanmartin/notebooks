{
  "nbformat": 4,
  "nbformat_minor": 0,
  "metadata": {
    "colab": {
      "provenance": [],
      "include_colab_link": true
    },
    "kernelspec": {
      "name": "python3",
      "display_name": "Python 3"
    },
    "language_info": {
      "name": "python"
    }
  },
  "cells": [
    {
      "cell_type": "markdown",
      "metadata": {
        "id": "view-in-github",
        "colab_type": "text"
      },
      "source": [
        "<a href=\"https://colab.research.google.com/github/ensanmartin/notebooks/blob/main/QF_base.ipynb\" target=\"_parent\"><img src=\"https://colab.research.google.com/assets/colab-badge.svg\" alt=\"Open In Colab\"/></a>"
      ]
    },
    {
      "cell_type": "markdown",
      "source": [
        "# **A continuacion algunos comandos extra para Colab**"
      ],
      "metadata": {
        "id": "psSMg68NBlHU"
      }
    },
    {
      "cell_type": "markdown",
      "source": [
        "**1) Instalando Octave en Colab**"
      ],
      "metadata": {
        "id": "3pzbrSKMB95S"
      }
    },
    {
      "cell_type": "code",
      "execution_count": null,
      "metadata": {
        "id": "M2GSDJIdBYi0"
      },
      "outputs": [],
      "source": [
        "!sudo apt-get update -qq > /dev/null 2>&1\n",
        "!sudo apt-get install -y octave > /dev/null 2>&1\n",
        "import IPython.display as display"
      ]
    },
    {
      "cell_type": "markdown",
      "source": [
        "**2) Chequeando instalación**"
      ],
      "metadata": {
        "id": "9fd0_T4JCBtc"
      }
    },
    {
      "cell_type": "code",
      "source": [
        "!octave --version"
      ],
      "metadata": {
        "id": "tr_ineisCLs0"
      },
      "execution_count": null,
      "outputs": []
    },
    {
      "cell_type": "markdown",
      "source": [
        "Antes de comenzar cualquier tarea en un prompt necesitamos crear un archivo de Octave, por ejemplo:\n",
        "\n",
        "`%%writefile Prueba1.m`\n",
        "\n",
        "Luego, debajo de esta linea (pero en la misma celda) podremos dar las ordenes que queremos, como sumar, integrar, graficar, etc. Intentemos en la siguiente celda."
      ],
      "metadata": {
        "id": "ssUez7BOCTpR"
      }
    },
    {
      "cell_type": "code",
      "source": [
        "%%writefile Prueba1.m\n",
        "a = 1\n",
        "b = 5\n",
        "c = a + b"
      ],
      "metadata": {
        "id": "nbJp4-d-CNlR"
      },
      "execution_count": null,
      "outputs": []
    },
    {
      "cell_type": "markdown",
      "source": [
        "**Como puedes ver, si el resultado no fue un error, verás el siguiente resultado:**\n",
        "\n",
        "`Writing Prueba1.m`\n",
        "\n",
        "**pero no la respuesta ☹**\n",
        "\n",
        "**La respuesta quedó guardada en el archivo *.m que creaste, por ello, para verla debes poner en la siguiente celda:**\n",
        "\n",
        "`!octave Prueba1.m`\n",
        "\n",
        "**Nota: ten en cuenta que \"prueba1\" es el nombre de este ejemplo, puede ser el que tu quieras.**"
      ],
      "metadata": {
        "id": "UivIyFZKDWvX"
      }
    },
    {
      "cell_type": "code",
      "source": [
        "!octave Prueba1.m"
      ],
      "metadata": {
        "id": "tsRqMSypD5AF"
      },
      "execution_count": null,
      "outputs": []
    },
    {
      "cell_type": "markdown",
      "source": [
        "**Si los comandos que ingresaste fueron para realizar un gráfico, necesitarás colocar el siguiente códico para poder visualizarlo:**\n",
        "\n",
        "`# Creamos un archivo donde se guarde el ejercicio`\n",
        "\n",
        "`%%writefile Prueba2.m`\n",
        "\n",
        "`... # Comandos para crear el gráfico`\n",
        "\n",
        "`# Generamos la imagen`\n",
        "\n",
        "`print -dpng Prueba2.png;`\n",
        "\n",
        "**y en la siguente celda ejecutarás:**\n",
        "\n",
        "`!octave Prueba2.m`\n",
        "\n",
        "`display.Image('Prueba2.png')`\n",
        "\n",
        "Nota: Recuerda que todo lo que este despues de un `#` no se tiene en cuenta por Octave.\n",
        "\n",
        "Veamos un ejemplo:"
      ],
      "metadata": {
        "id": "S8FxqEyTFJZP"
      }
    },
    {
      "cell_type": "code",
      "source": [
        "# Creamos un archivo donde se guarde el ejercicio\n",
        "%%writefile Prueba2.m\n",
        "\n",
        "# Creamos el vector y las constantes\n",
        "x = 1:0.01:3;\n",
        "a=2;\n",
        "\n",
        "# Creamos las funciones\n",
        "y = a.*x;\n",
        "w = a./x;\n",
        "\n",
        "# Graficamos\n",
        "plot(x, y, \"LineWidth\", 6, x, w, \"LineWidth\", 6);\n",
        "\n",
        "# Agregamos componentes al gráfico\n",
        "xlabel(\"X\");\n",
        "ylabel(\"f(x)\");\n",
        "#axis ([0 0.85 -150 200]);\n",
        "title(\"Prueba2\");\n",
        "legend (\"x\", \"y\");\n",
        "\n",
        "# Generamos la imagen\n",
        "print -dpng Prueba2.png;"
      ],
      "metadata": {
        "id": "AaOlL_noE28O"
      },
      "execution_count": null,
      "outputs": []
    },
    {
      "cell_type": "code",
      "source": [
        "!octave Prueba2.m\n",
        "display.Image('Prueba2.png')"
      ],
      "metadata": {
        "id": "zd864OsuIIF2"
      },
      "execution_count": null,
      "outputs": []
    },
    {
      "cell_type": "code",
      "source": [],
      "metadata": {
        "id": "yxTFKVJ-IMkg"
      },
      "execution_count": null,
      "outputs": []
    }
  ]
}